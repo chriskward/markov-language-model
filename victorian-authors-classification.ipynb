{
 "cells": [
  {
   "cell_type": "code",
   "execution_count": 3,
   "metadata": {
    "colab": {
     "base_uri": "https://localhost:8080/"
    },
    "executionInfo": {
     "elapsed": 16635,
     "status": "ok",
     "timestamp": 1699454129459,
     "user": {
      "displayName": "Chris Ward",
      "userId": "02095474881077785767"
     },
     "user_tz": 0
    },
    "id": "n834tPjRWdxv",
    "outputId": "202f08f4-bbd5-43be-881d-eb1ccf0ed223"
   },
   "outputs": [
    {
     "name": "stdout",
     "output_type": "stream",
     "text": [
      "Mounted at /content/drive\n",
      "/content/drive/MyDrive/Colab Notebooks/markov-language-model\n"
     ]
    }
   ],
   "source": [
    "import sys\n",
    "from google.colab import drive\n",
    "drive.mount('/content/drive', force_remount = True)\n",
    "%cd drive/MyDrive/Colab Notebooks/markov-language-model\n",
    "sys.path.append('/content/drive/MyDrive/Colab Notebooks/markov-language-model')"
   ]
  },
  {
   "cell_type": "code",
   "execution_count": 160,
   "metadata": {
    "executionInfo": {
     "elapsed": 237,
     "status": "ok",
     "timestamp": 1699459944518,
     "user": {
      "displayName": "Chris Ward",
      "userId": "02095474881077785767"
     },
     "user_tz": 0
    },
    "id": "Y6C0z7maWhJZ"
   },
   "outputs": [],
   "source": [
    "import numpy as np\n",
    "import pandas as pd\n",
    "from markovmodel import MarkovModel\n",
    "from sklearn.model_selection import train_test_split as tts\n",
    "from sklearn.metrics import confusion_matrix , ConfusionMatrixDisplay, f1_score"
   ]
  },
  {
   "cell_type": "code",
   "execution_count": 187,
   "metadata": {
    "colab": {
     "base_uri": "https://localhost:8080/"
    },
    "executionInfo": {
     "elapsed": 1736,
     "status": "ok",
     "timestamp": 1699460173657,
     "user": {
      "displayName": "Chris Ward",
      "userId": "02095474881077785767"
     },
     "user_tz": 0
    },
    "id": "v36n0pZiW8py",
    "outputId": "8a7c0eb7-c5af-4f47-fac9-0fe9f2e6d371"
   },
   "outputs": [
    {
     "data": {
      "text/plain": [
       "(                                                text  author\n",
       " 0  ou have time to listen i will give you the ent...       1\n",
       " 1  wish for solitude he was twenty years of age a...       1\n",
       " 2  and the skirt blew in perfect freedom about th...       1\n",
       " 3  of san and the rows of shops opposite impresse...       1\n",
       " 4  an hour s walk was as tiresome as three in a s...       1,\n",
       "                                                     text  author\n",
       " 17820  a sudden flash of lightning he could not at on...      15\n",
       " 17821  not leave her room and at the end of the week ...      15\n",
       " 17822  happened after she left them dry your eyes the...      15\n",
       " 17823  again no doubt mrs forest said turning to mrs ...      15\n",
       " 17824  well i hope we shall be able to conquer death ...      15)"
      ]
     },
     "execution_count": 187,
     "metadata": {},
     "output_type": "execute_result"
    }
   ],
   "source": [
    "data = pd.read_csv('victorian-authors.csv')\n",
    "data.head() , data.tail()"
   ]
  },
  {
   "cell_type": "code",
   "execution_count": 188,
   "metadata": {
    "colab": {
     "base_uri": "https://localhost:8080/"
    },
    "executionInfo": {
     "elapsed": 227,
     "status": "ok",
     "timestamp": 1699460176721,
     "user": {
      "displayName": "Chris Ward",
      "userId": "02095474881077785767"
     },
     "user_tz": 0
    },
    "id": "yd6FWuIAYGKX",
    "outputId": "94ccd653-88e1-4e46-a548-8f8b690929b5"
   },
   "outputs": [
    {
     "data": {
      "text/plain": [
       "(                                                   text  author\n",
       " 3397  t is only the railroad the arches of the railr...       8\n",
       " 3398  partially enveloped the seed ned the same kind...       8\n",
       " 3399  king s sake how gladly we repeat it sailing on...       8\n",
       " 3400  why is this we shall soon see we push through ...       8\n",
       " 3401  bear don t cry so loud bony is not here she to...       8,\n",
       "                                                     text  author\n",
       " 13179  rather as it afterward proved you would have r...      12\n",
       " 13180  had escaped death was not s fault and the dead...      12\n",
       " 13181  himself in the wrong box i can tell you you ve...      12\n",
       " 13182  blame surely your father will give you half th...      12\n",
       " 13183  liar you are a liar he screamed white a final ...      12)"
      ]
     },
     "execution_count": 188,
     "metadata": {},
     "output_type": "execute_result"
    }
   ],
   "source": [
    "no_of_authors = 5\n",
    "\n",
    "# randomly sample required number of authors\n",
    "author_list = data['author'].sample(no_of_authors, replace=False).values\n",
    "\n",
    "# extract the texts by these randomly chosen authors\n",
    "bool_mask = data['author'].isin(author_list)\n",
    "data = data[bool_mask]\n",
    "data.head(), data.tail()"
   ]
  },
  {
   "cell_type": "code",
   "execution_count": 189,
   "metadata": {
    "colab": {
     "base_uri": "https://localhost:8080/"
    },
    "executionInfo": {
     "elapsed": 222,
     "status": "ok",
     "timestamp": 1699460178847,
     "user": {
      "displayName": "Chris Ward",
      "userId": "02095474881077785767"
     },
     "user_tz": 0
    },
    "id": "HMb3UjacYJ6d",
    "outputId": "d68c44db-ca42-467b-825b-fb929e4f17e8"
   },
   "outputs": [
    {
     "data": {
      "text/plain": [
       "8     6914\n",
       "9     1108\n",
       "12     627\n",
       "11     383\n",
       "Name: author, dtype: int64"
      ]
     },
     "execution_count": 189,
     "metadata": {},
     "output_type": "execute_result"
    }
   ],
   "source": [
    "counts = data['author'].value_counts()\n",
    "counts"
   ]
  },
  {
   "cell_type": "code",
   "execution_count": 190,
   "metadata": {
    "colab": {
     "base_uri": "https://localhost:8080/"
    },
    "executionInfo": {
     "elapsed": 3,
     "status": "ok",
     "timestamp": 1699460181799,
     "user": {
      "displayName": "Chris Ward",
      "userId": "02095474881077785767"
     },
     "user_tz": 0
    },
    "id": "D8iqGNxyZuak",
    "outputId": "d1a5ce16-c26d-4bad-fd21-1d6546a88958"
   },
   "outputs": [
    {
     "data": {
      "text/plain": [
       "(                                                   text  author\n",
       " 5083  saw a light in all the house if i had been a c...       8\n",
       " 9476  you say so b pays the highest lawful interest ...       8\n",
       " 8409  will be a short one i was afraid said to see h...       8\n",
       " 8609  the man in whose preservation i was so much co...       8\n",
       " 3522  himself with an energy that made his eyes star...       8,\n",
       "                                                     text  author\n",
       " 12538  into the hands of the the custom was capable o...      11\n",
       " 12397  as he passed into the stock â by the water gat...      11\n",
       " 12441  from the natives by purchase or by treaty of s...      11\n",
       " 12447  of religious freedom consideration to stir him...      11\n",
       " 12417  be to the joint stock and system of labor and ...      11)"
      ]
     },
     "execution_count": 190,
     "metadata": {},
     "output_type": "execute_result"
    }
   ],
   "source": [
    "# find the class smallest number of texts\n",
    "no_to_sample = counts.min()\n",
    "sampled_list = []\n",
    "\n",
    "# sample this number of texts from each\n",
    "# author to ensure a balanced dataset\n",
    "for i in counts.index:\n",
    "  sampled_list.append( (data[ data['author'] == i]).sample(no_to_sample) )\n",
    "\n",
    "data = pd.concat(sampled_list)\n",
    "data.head(), data.tail()"
   ]
  },
  {
   "cell_type": "code",
   "execution_count": 195,
   "metadata": {
    "executionInfo": {
     "elapsed": 195,
     "status": "ok",
     "timestamp": 1699460232832,
     "user": {
      "displayName": "Chris Ward",
      "userId": "02095474881077785767"
     },
     "user_tz": 0
    },
    "id": "hKNF6THpaTbE"
   },
   "outputs": [],
   "source": [
    "x_train, x_test, y_train, y_test = tts(data['text'], data['author'], test_size=0.2)\n",
    "\n",
    "# combining the data & label for the training set\n",
    "# simplifies the extraction of the text into a single\n",
    "# string for each author in the cell below\n",
    "\n",
    "train_data = pd.concat((x_train,y_train), axis = 1)"
   ]
  },
  {
   "cell_type": "code",
   "execution_count": 156,
   "metadata": {
    "executionInfo": {
     "elapsed": 32669,
     "status": "ok",
     "timestamp": 1699459789504,
     "user": {
      "displayName": "Chris Ward",
      "userId": "02095474881077785767"
     },
     "user_tz": 0
    },
    "id": "vuMJ8cAZfZi0"
   },
   "outputs": [],
   "source": [
    "# model parameters\n",
    "\n",
    "n = 5\n",
    "alpha = 0.001\n",
    "\n",
    "model_list = []\n",
    "\n",
    "for author in train_data['author'].unique():\n",
    "  training_string = str()\n",
    "\n",
    "  for text in train_data[ train_data['author'] == author]['text']:\n",
    "    training_string += ' ' + text + ' '\n",
    "\n",
    "  model_list.append( MarkovModel(training_string, n, alpha) )\n"
   ]
  },
  {
   "cell_type": "code",
   "execution_count": 158,
   "metadata": {
    "executionInfo": {
     "elapsed": 3333,
     "status": "ok",
     "timestamp": 1699459897768,
     "user": {
      "displayName": "Chris Ward",
      "userId": "02095474881077785767"
     },
     "user_tz": 0
    },
    "id": "gip-mXFxfl-2"
   },
   "outputs": [],
   "source": [
    "y_hat = []\n",
    "\n",
    "for test_string in x_test:\n",
    "  log_probs = []\n",
    "\n",
    "  # for each text sample in the test set obtain the\n",
    "  # log probability score returned by each model\n",
    "\n",
    "  for model in model_list:\n",
    "    log_probs.append( model.predict(test_string) )\n",
    "\n",
    "  log_probs = np.array(log_probs)\n",
    "  prediction_arg = log_probs.argmax()\n",
    "\n",
    "  # the arg_max gives us the index position of the 'winning'\n",
    "  # model in model_list. We want the actual author label. This\n",
    "  # is the value at the corresponding position in counts.index\n",
    "\n",
    "  y_hat.append( counts.index[ prediction_arg ] )"
   ]
  },
  {
   "cell_type": "code",
   "execution_count": 228,
   "metadata": {
    "colab": {
     "base_uri": "https://localhost:8080/"
    },
    "executionInfo": {
     "elapsed": 3,
     "status": "ok",
     "timestamp": 1699460617986,
     "user": {
      "displayName": "Chris Ward",
      "userId": "02095474881077785767"
     },
     "user_tz": 0
    },
    "id": "k3XrnK70hvAQ",
    "outputId": "8102118a-4dbd-4f2e-b6e2-df90b83cd198"
   },
   "outputs": [
    {
     "name": "stdout",
     "output_type": "stream",
     "text": [
      "Accuracy 0.511400651465798\n",
      "Macro F1 0.5043365376680862\n"
     ]
    }
   ],
   "source": [
    "print (f'Accuracy {f1_score(y_hat, y_test, average=\"micro\")}' )\n",
    "print (f'Macro F1 {f1_score(y_hat, y_test, average=\"macro\")}' )"
   ]
  },
  {
   "cell_type": "code",
   "execution_count": 229,
   "metadata": {
    "colab": {
     "base_uri": "https://localhost:8080/",
     "height": 453
    },
    "executionInfo": {
     "elapsed": 449,
     "status": "ok",
     "timestamp": 1699460619800,
     "user": {
      "displayName": "Chris Ward",
      "userId": "02095474881077785767"
     },
     "user_tz": 0
    },
    "id": "GVMpD6gEi5Qj",
    "outputId": "b66ad166-860e-42b3-a6a6-84831b056a7b"
   },
   "outputs": [
    {
     "data": {
      "image/png": "[encoded data removed]",
      "text/plain": [
       "<Figure size 640x480 with 2 Axes>"
      ]
     },
     "metadata": {},
     "output_type": "display_data"
    }
   ],
   "source": [
    "labels = np.sort( y_test.unique() )\n",
    "confusion_plot = ConfusionMatrixDisplay( confusion_matrix(y_test, y_hat), display_labels = labels)\n",
    "confusion_plot.plot(xticks_rotation=90);"
   ]
  }
 ],
 "metadata": {
  "colab": {
   "authorship_tag": "ABX9TyPD5TqhkfDWuwZjKsJsC1n2",
   "provenance": []
  },
  "kernelspec": {
   "display_name": "Python 3 (ipykernel)",
   "language": "python",
   "name": "python3"
  },
  "language_info": {
   "codemirror_mode": {
    "name": "ipython",
    "version": 3
   },
   "file_extension": ".py",
   "mimetype": "text/x-python",
   "name": "python",
   "nbconvert_exporter": "python",
   "pygments_lexer": "ipython3",
   "version": "3.8.5"
  }
 },
 "nbformat": 4,
 "nbformat_minor": 1
}
