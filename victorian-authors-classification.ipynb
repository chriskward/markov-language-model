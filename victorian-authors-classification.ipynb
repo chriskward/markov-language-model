{
 "cells": [
  {
   "cell_type": "markdown",
   "metadata": {},
   "source": [
    "## Victorian Era Authorship Attribution\n",
    "\n",
    "This notebook follows on from [this](https://github.com/chriskward/stylometry-toolkit/blob/main/authorship-attribution.ipynb) notebook demonstrating an Authorship Attribution classifier using a SVM\n",
    "and [stylometry-toolkit](https://github.com/chriskward/stylometry-toolkit/tree/main) to vectorise text as relative frequencies of character n-grams.\n",
    "\n",
    "Whilst that approach was, with this dataset, quite successful, that is not always the case with real world, un-curated datasets. However, for a simple demonstration, we will use the same dataset again and build a simple classifier using the **MarkovModel** class in this repository. As before, I would recommend running this notebook in Google Colab."
   ]
  },
  {
   "cell_type": "code",
   "execution_count": null,
   "metadata": {
    "colab": {
     "base_uri": "https://localhost:8080/"
    },
    "executionInfo": {
     "elapsed": 17872,
     "status": "ok",
     "timestamp": 1699549663508,
     "user": {
      "displayName": "Chris Ward",
      "userId": "02095474881077785767"
     },
     "user_tz": 0
    },
    "id": "n834tPjRWdxv",
    "outputId": "2dec30f7-0bdc-4108-f037-cd546548ee47"
   },
   "outputs": [
    {
     "name": "stdout",
     "output_type": "stream",
     "text": [
      "Mounted at /content/drive\n",
      "/content/drive/MyDrive/Colab Notebooks/markov-language-model\n"
     ]
    }
   ],
   "source": [
    "import sys\n",
    "from google.colab import drive\n",
    "drive.mount('/content/drive', force_remount = True)\n",
    "%cd drive/MyDrive/Colab Notebooks/markov-language-model\n",
    "sys.path.append('/content/drive/MyDrive/Colab Notebooks/markov-language-model')"
   ]
  },
  {
   "cell_type": "code",
   "execution_count": null,
   "metadata": {
    "id": "Y6C0z7maWhJZ"
   },
   "outputs": [],
   "source": [
    "import numpy as np\n",
    "import pandas as pd\n",
    "from markovmodel import MarkovModel\n",
    "from sklearn.model_selection import train_test_split as tts\n",
    "from sklearn.metrics import confusion_matrix , ConfusionMatrixDisplay, f1_score"
   ]
  },
  {
   "cell_type": "code",
   "execution_count": null,
   "metadata": {
    "colab": {
     "base_uri": "https://localhost:8080/"
    },
    "executionInfo": {
     "elapsed": 1452,
     "status": "ok",
     "timestamp": 1699550582162,
     "user": {
      "displayName": "Chris Ward",
      "userId": "02095474881077785767"
     },
     "user_tz": 0
    },
    "id": "v36n0pZiW8py",
    "outputId": "e72fbe51-df8c-479b-fd31-0afa9a3accc9"
   },
   "outputs": [
    {
     "data": {
      "text/plain": [
       "(                                                text  author\n",
       " 0  ou have time to listen i will give you the ent...       1\n",
       " 1  wish for solitude he was twenty years of age a...       1\n",
       " 2  and the skirt blew in perfect freedom about th...       1\n",
       " 3  of san and the rows of shops opposite impresse...       1\n",
       " 4  an hour s walk was as tiresome as three in a s...       1,\n",
       "                                                     text  author\n",
       " 17820  a sudden flash of lightning he could not at on...      15\n",
       " 17821  not leave her room and at the end of the week ...      15\n",
       " 17822  happened after she left them dry your eyes the...      15\n",
       " 17823  again no doubt mrs forest said turning to mrs ...      15\n",
       " 17824  well i hope we shall be able to conquer death ...      15)"
      ]
     },
     "execution_count": 17,
     "metadata": {},
     "output_type": "execute_result"
    }
   ],
   "source": [
    "data = pd.read_csv('victorian-authors.csv')\n",
    "data.head() , data.tail()"
   ]
  },
  {
   "cell_type": "markdown",
   "metadata": {},
   "source": [
    "We will randomly select 4 authors out of the fifteen present and create a balanced dataset of managable size by sampling 250 text samples from each of the four selected authors."
   ]
  },
  {
   "cell_type": "code",
   "execution_count": null,
   "metadata": {
    "colab": {
     "base_uri": "https://localhost:8080/"
    },
    "executionInfo": {
     "elapsed": 7,
     "status": "ok",
     "timestamp": 1699550582163,
     "user": {
      "displayName": "Chris Ward",
      "userId": "02095474881077785767"
     },
     "user_tz": 0
    },
    "id": "yd6FWuIAYGKX",
    "outputId": "afad1131-0d53-45a6-dd13-5d7ef802f404"
   },
   "outputs": [
    {
     "data": {
      "text/plain": [
       "(                                                   text  author\n",
       " 1507  in her lips that were parted just then in a of...       4\n",
       " 1508  as her unwelcome by the fa te of coach fellow ...       4\n",
       " 1509  but i never told you what the accident was he ...       4\n",
       " 1510  through the gray smoke of his he had as from s...       4\n",
       " 1511  and moved away so rapidly that s why my dear b...       4,\n",
       "                                                     text  author\n",
       " 17820  a sudden flash of lightning he could not at on...      15\n",
       " 17821  not leave her room and at the end of the week ...      15\n",
       " 17822  happened after she left them dry your eyes the...      15\n",
       " 17823  again no doubt mrs forest said turning to mrs ...      15\n",
       " 17824  well i hope we shall be able to conquer death ...      15)"
      ]
     },
     "execution_count": 18,
     "metadata": {},
     "output_type": "execute_result"
    }
   ],
   "source": [
    "no_of_authors = 4\n",
    "\n",
    "# randomly sample required number of authors\n",
    "author_list = data['author'].sample(no_of_authors, replace=False).values\n",
    "\n",
    "# extract the texts by these randomly chosen authors\n",
    "bool_mask = data['author'].isin(author_list)\n",
    "data = data[bool_mask]\n",
    "data.head(), data.tail()"
   ]
  },
  {
   "cell_type": "code",
   "execution_count": null,
   "metadata": {
    "colab": {
     "base_uri": "https://localhost:8080/"
    },
    "executionInfo": {
     "elapsed": 220,
     "status": "ok",
     "timestamp": 1699550587780,
     "user": {
      "displayName": "Chris Ward",
      "userId": "02095474881077785767"
     },
     "user_tz": 0
    },
    "id": "HMb3UjacYJ6d",
    "outputId": "c62f7c22-0490-47e5-d4db-9a2e1a2acbf8"
   },
   "outputs": [
    {
     "data": {
      "text/plain": [
       "8     6914\n",
       "4     1483\n",
       "15    1460\n",
       "9     1108\n",
       "Name: author, dtype: int64"
      ]
     },
     "execution_count": 19,
     "metadata": {},
     "output_type": "execute_result"
    }
   ],
   "source": [
    "# how many examples per class (the dataset is not balanced)\n",
    "counts = data['author'].value_counts()\n",
    "counts"
   ]
  },
  {
   "cell_type": "code",
   "execution_count": null,
   "metadata": {
    "colab": {
     "base_uri": "https://localhost:8080/"
    },
    "executionInfo": {
     "elapsed": 3,
     "status": "ok",
     "timestamp": 1699550590398,
     "user": {
      "displayName": "Chris Ward",
      "userId": "02095474881077785767"
     },
     "user_tz": 0
    },
    "id": "D8iqGNxyZuak",
    "outputId": "8ae4d4e4-eeda-4bbd-8aa6-bab94195cabb"
   },
   "outputs": [
    {
     "data": {
      "text/plain": [
       "(                                                   text  author\n",
       " 7207  in that tr ring hour oh none for words have na...       8\n",
       " 8728  y and ami tâ and apparently beat expectations ...       8\n",
       " 3987  mr and mrs for we will â ha â we will certainl...       8\n",
       " 3866  if the sun ever touched it it was but with a r...       8\n",
       " 8202  have felt for a a thick curtain had fallen on ...       8,\n",
       "                                                     text  author\n",
       " 10620  shouted gaily and offered him a piece of bear ...       9\n",
       " 10838  tor it it was not there he shook them it did n...       9\n",
       " 10840  it together she took out the letter with a i a...       9\n",
       " 10319  with a sharp and pleasing effect this ended th...       9\n",
       " 10652  the said the cur right humbly doth the parish ...       9)"
      ]
     },
     "execution_count": 20,
     "metadata": {},
     "output_type": "execute_result"
    }
   ],
   "source": [
    "# find the class smallest number of texts\n",
    "\n",
    "no_to_sample = 250\n",
    "#no_to_sample = counts.min()\n",
    "sampled_list = []\n",
    "\n",
    "# sample this number of texts from each\n",
    "# author to ensure a balanced dataset\n",
    "for i in counts.index:\n",
    "  sampled_list.append( (data[ data['author'] == i]).sample(no_to_sample) )\n",
    "\n",
    "data = pd.concat(sampled_list)\n",
    "data.head(), data.tail()"
   ]
  },
  {
   "cell_type": "code",
   "execution_count": null,
   "metadata": {
    "id": "hKNF6THpaTbE"
   },
   "outputs": [],
   "source": [
    "x_train, x_test, y_train, y_test = tts(data['text'], data['author'], test_size=0.2)\n",
    "\n",
    "# combining the data & label for the training set\n",
    "# simplifies the extraction of the text into a single\n",
    "# string for each author in the cell below\n",
    "\n",
    "train_data = pd.concat((x_train,y_train), axis = 1)"
   ]
  },
  {
   "cell_type": "markdown",
   "metadata": {},
   "source": [
    "For brevity, we can use scikit-learn's train_test_split function to randomly sample a test set of 50 samples per author. However, the MarkovMovel class expects training data in the form of a single string, so for each author we concatenate each training text.\n",
    "\n",
    "A model is trained for each author and these are stored in model_list"
   ]
  },
  {
   "cell_type": "code",
   "execution_count": null,
   "metadata": {
    "id": "vuMJ8cAZfZi0"
   },
   "outputs": [],
   "source": [
    "# model parameters\n",
    "\n",
    "n = 10\n",
    "alpha = 0.001\n",
    "\n",
    "model_list = []\n",
    "\n",
    "for author in train_data['author'].unique():\n",
    "  training_string = str()\n",
    "\n",
    "  for text in train_data[ train_data['author'] == author]['text']:\n",
    "    training_string += ' ' + text + ' '\n",
    "\n",
    "model_list.append( MarkovModel(training_string, n, alpha) )\n"
   ]
  },
  {
   "cell_type": "markdown",
   "metadata": {},
   "source": [
    "Predictions are obtained by passing each test set sample to each models .predict() method. This returns a log-probability score. We classify the test sample to the author whos model returned the greatest log-probability."
   ]
  },
  {
   "cell_type": "code",
   "execution_count": null,
   "metadata": {
    "id": "gip-mXFxfl-2"
   },
   "outputs": [],
   "source": [
    "y_hat = []\n",
    "\n",
    "for test_string in x_test:\n",
    "  log_probs = []\n",
    "\n",
    "  # for each text sample in the test set obtain the\n",
    "  # log probability score returned by each model\n",
    "\n",
    "  for model in model_list:\n",
    "    log_probs.append( model.predict(test_string) )\n",
    "\n",
    "  log_probs = np.array(log_probs)\n",
    "  prediction_arg = log_probs.argmax()\n",
    "\n",
    "  # the arg_max gives us the index position of the 'winning'\n",
    "  # model in model_list. We want the actual author label. This\n",
    "  # is the value at the corresponding position in counts.index\n",
    "\n",
    "  y_hat.append( counts.index[ prediction_arg ] )"
   ]
  },
  {
   "cell_type": "code",
   "execution_count": null,
   "metadata": {
    "colab": {
     "base_uri": "https://localhost:8080/"
    },
    "executionInfo": {
     "elapsed": 233,
     "status": "ok",
     "timestamp": 1699550661044,
     "user": {
      "displayName": "Chris Ward",
      "userId": "02095474881077785767"
     },
     "user_tz": 0
    },
    "id": "k3XrnK70hvAQ",
    "outputId": "f080d633-7110-4aa5-acc4-fcd45137b17d"
   },
   "outputs": [
    {
     "name": "stdout",
     "output_type": "stream",
     "text": [
      "Accuracy 0.945\n",
      "Macro F1 0.9432734900758155\n"
     ]
    }
   ],
   "source": [
    "print (f'Accuracy {f1_score(y_hat, y_test, average=\"micro\")}' )\n",
    "print (f'Macro F1 {f1_score(y_hat, y_test, average=\"macro\")}' )"
   ]
  },
  {
   "cell_type": "code",
   "execution_count": null,
   "metadata": {
    "colab": {
     "base_uri": "https://localhost:8080/",
     "height": 453
    },
    "executionInfo": {
     "elapsed": 329,
     "status": "ok",
     "timestamp": 1699550662532,
     "user": {
      "displayName": "Chris Ward",
      "userId": "02095474881077785767"
     },
     "user_tz": 0
    },
    "id": "GVMpD6gEi5Qj",
    "outputId": "f666e1ce-e52a-478a-e636-c882247376f8"
   },
   "outputs": [
    {
     "data": {
      "image/png": "[encoded data removed]",
      "text/plain": [
       "<Figure size 640x480 with 2 Axes>"
      ]
     },
     "metadata": {},
     "output_type": "display_data"
    }
   ],
   "source": [
    "labels = np.sort( y_test.unique() )\n",
    "confusion_plot = ConfusionMatrixDisplay( confusion_matrix(y_test, y_hat), display_labels = labels)\n",
    "confusion_plot.plot(xticks_rotation=90);"
   ]
  },
  {
   "cell_type": "markdown",
   "metadata": {},
   "source": [
    "The [SVM classifier](https://github.com/chriskward/stylometry-toolkit/blob/main/authorship-attribution.ipynb) reported an accuracy of 89% over the test set. It should be pointed out that this is not a like-for-like comparison, we randomly sampled for authors in both cases so we are testing both methodologies using different data. However, it is notable that this **MarkovModel** exhibited over ninety percent accuracy on this classification task and required no complex feature engineering."
   ]
  }
 ],
 "metadata": {
  "colab": {
   "authorship_tag": "ABX9TyOG18+dtwN31y2tLAuOrHTf",
   "provenance": []
  },
  "kernelspec": {
   "display_name": "Python 3 (ipykernel)",
   "language": "python",
   "name": "python3"
  },
  "language_info": {
   "codemirror_mode": {
    "name": "ipython",
    "version": 3
   },
   "file_extension": ".py",
   "mimetype": "text/x-python",
   "name": "python",
   "nbconvert_exporter": "python",
   "pygments_lexer": "ipython3",
   "version": "3.8.5"
  }
 },
 "nbformat": 4,
 "nbformat_minor": 1
}
