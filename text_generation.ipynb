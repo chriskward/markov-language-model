{
 "cells": [
  {
   "cell_type": "code",
   "execution_count": 1,
   "id": "kxI5FOATjSx5",
   "metadata": {
    "colab": {
     "base_uri": "https://localhost:8080/"
    },
    "executionInfo": {
     "elapsed": 3276,
     "status": "ok",
     "timestamp": 1699442239614,
     "user": {
      "displayName": "Chris Ward",
      "userId": "02095474881077785767"
     },
     "user_tz": 0
    },
    "id": "kxI5FOATjSx5",
    "outputId": "4cb35993-d259-4f8b-a3b2-2ad797cd9b0b"
   },
   "outputs": [
    {
     "name": "stdout",
     "output_type": "stream",
     "text": [
      "Mounted at /content/drive\n",
      "/content/drive/MyDrive/Colab Notebooks/markov-language-model\n"
     ]
    }
   ],
   "source": [
    "import sys\n",
    "from google.colab import drive\n",
    "drive.mount('/content/drive', force_remount=True)\n",
    "%cd drive/MyDrive/Colab Notebooks/markov-language-model\n",
    "sys.path.append('/content/drive/MyDrive/Colab Notebooks/markov-language-model')"
   ]
  },
  {
   "cell_type": "code",
   "execution_count": 41,
   "id": "9e2f4030-7759-42a3-a3a4-85f447b5face",
   "metadata": {
    "executionInfo": {
     "elapsed": 227,
     "status": "ok",
     "timestamp": 1699450554460,
     "user": {
      "displayName": "Chris Ward",
      "userId": "02095474881077785767"
     },
     "user_tz": 0
    },
    "id": "9e2f4030-7759-42a3-a3a4-85f447b5face"
   },
   "outputs": [],
   "source": [
    "import numpy as np\n",
    "import pandas as pd\n",
    "from markovmodel import MarkovModel\n",
    "import requests\n",
    "from bs4 import BeautifulSoup"
   ]
  },
  {
   "cell_type": "code",
   "execution_count": 3,
   "id": "bfabbc85-f816-4cbc-994d-7b7f54a8ac10",
   "metadata": {
    "executionInfo": {
     "elapsed": 5,
     "status": "ok",
     "timestamp": 1699442244188,
     "user": {
      "displayName": "Chris Ward",
      "userId": "02095474881077785767"
     },
     "user_tz": 0
    },
    "id": "bfabbc85-f816-4cbc-994d-7b7f54a8ac10"
   },
   "outputs": [],
   "source": [
    "get_url = 'https://www.telegraph.co.uk/boris-johnson-archive'\n",
    "get_url_list = [get_url]\n",
    "\n",
    "for i in range(2,9): get_url_list.append( get_url+'/page-'+str(i) )"
   ]
  },
  {
   "cell_type": "code",
   "execution_count": 4,
   "id": "c2267381-9d7d-41d8-81b1-b5bf2f025524",
   "metadata": {
    "colab": {
     "base_uri": "https://localhost:8080/"
    },
    "executionInfo": {
     "elapsed": 5,
     "status": "ok",
     "timestamp": 1699442244189,
     "user": {
      "displayName": "Chris Ward",
      "userId": "02095474881077785767"
     },
     "user_tz": 0
    },
    "id": "c2267381-9d7d-41d8-81b1-b5bf2f025524",
    "outputId": "d6f93786-3326-4e1b-d8f5-929c7fb9fa4c"
   },
   "outputs": [
    {
     "data": {
      "text/plain": [
       "['https://www.telegraph.co.uk/boris-johnson-archive',\n",
       " 'https://www.telegraph.co.uk/boris-johnson-archive/page-2',\n",
       " 'https://www.telegraph.co.uk/boris-johnson-archive/page-3',\n",
       " 'https://www.telegraph.co.uk/boris-johnson-archive/page-4',\n",
       " 'https://www.telegraph.co.uk/boris-johnson-archive/page-5',\n",
       " 'https://www.telegraph.co.uk/boris-johnson-archive/page-6',\n",
       " 'https://www.telegraph.co.uk/boris-johnson-archive/page-7',\n",
       " 'https://www.telegraph.co.uk/boris-johnson-archive/page-8']"
      ]
     },
     "execution_count": 4,
     "metadata": {},
     "output_type": "execute_result"
    }
   ],
   "source": [
    "get_url_list"
   ]
  },
  {
   "cell_type": "code",
   "execution_count": 5,
   "id": "1dbeb6fd-c4ba-41eb-a1fd-f83bb50007d0",
   "metadata": {
    "executionInfo": {
     "elapsed": 9436,
     "status": "ok",
     "timestamp": 1699442256120,
     "user": {
      "displayName": "Chris Ward",
      "userId": "02095474881077785767"
     },
     "user_tz": 0
    },
    "id": "1dbeb6fd-c4ba-41eb-a1fd-f83bb50007d0"
   },
   "outputs": [],
   "source": [
    "scraped_urls = []\n",
    "prepend = 'http://www.telegraph.co.uk'\n",
    "\n",
    "for x in get_url_list:\n",
    "\n",
    "    page = requests.get(x)\n",
    "    if page.status_code !=200: raise RuntimeError(f'requests.get failed {page.status_code}')\n",
    "    soup = BeautifulSoup( page.text, 'html.parser' )\n",
    "    articles = soup.find_all('article')\n",
    "    for article in articles:\n",
    "        links = article.find_all('a')\n",
    "        for link in links:\n",
    "            scraped_urls.append( prepend + link.get('href') )"
   ]
  },
  {
   "cell_type": "code",
   "execution_count": 6,
   "id": "ecdf14fa-39be-4162-8c37-118c22024584",
   "metadata": {
    "colab": {
     "base_uri": "https://localhost:8080/"
    },
    "executionInfo": {
     "elapsed": 293,
     "status": "ok",
     "timestamp": 1699442258048,
     "user": {
      "displayName": "Chris Ward",
      "userId": "02095474881077785767"
     },
     "user_tz": 0
    },
    "id": "ecdf14fa-39be-4162-8c37-118c22024584",
    "outputId": "3d65a8fd-d61b-4bdc-dde7-4135f1860b0a"
   },
   "outputs": [
    {
     "data": {
      "text/plain": [
       "(739, 276)"
      ]
     },
     "execution_count": 6,
     "metadata": {},
     "output_type": "execute_result"
    }
   ],
   "source": [
    "len(scraped_urls) , len(set(scraped_urls))"
   ]
  },
  {
   "cell_type": "code",
   "execution_count": 7,
   "id": "fc2cf1f1-cfe2-482a-b569-1b20e53403a4",
   "metadata": {
    "colab": {
     "base_uri": "https://localhost:8080/"
    },
    "executionInfo": {
     "elapsed": 215,
     "status": "ok",
     "timestamp": 1699442258948,
     "user": {
      "displayName": "Chris Ward",
      "userId": "02095474881077785767"
     },
     "user_tz": 0
    },
    "id": "fc2cf1f1-cfe2-482a-b569-1b20e53403a4",
    "outputId": "132f9fef-4f03-4e3a-d772-6afe5c7440e1"
   },
   "outputs": [
    {
     "data": {
      "text/plain": [
       "['http://www.telegraph.co.uk/politics/0/simple-way-keep-law-order-make-everyone-kiss-cuddle/',\n",
       " 'http://www.telegraph.co.uk/politics/0/financial-crisis-eat-spend-merry-not-end-world/',\n",
       " 'http://www.telegraph.co.uk/politics/0/bbc-investigation-smearing-innocent-mans-name-real-tragedy/',\n",
       " 'http://www.telegraph.co.uk/politics/0/eu-crisis-greek-austerity-diet-will-leave-feeling-fed/',\n",
       " 'http://www.telegraph.co.uk/politics/0/tests-say-have-leukaemia-hang-mo-cant-right/',\n",
       " 'http://www.telegraph.co.uk/politics/2019/05/12/corbyn-style-socialism-cannot-provide-resources-magnificent/',\n",
       " 'http://www.telegraph.co.uk/politics/0/britain-wont-create-facebook-learn-praise-success/',\n",
       " 'http://www.telegraph.co.uk/politics/0/special-relationship-one-way-street/',\n",
       " 'http://www.telegraph.co.uk/politics/0/justice-put-sword-moscows-greed-corruption/',\n",
       " 'http://www.telegraph.co.uk/politics/0/mick-jaggers-sir-cant-keith-richards-have-satisfaction/']"
      ]
     },
     "execution_count": 7,
     "metadata": {},
     "output_type": "execute_result"
    }
   ],
   "source": [
    "scraped_urls = list( set(scraped_urls) )\n",
    "scraped_urls[:10]"
   ]
  },
  {
   "cell_type": "code",
   "execution_count": 8,
   "id": "af1a7c65-6906-4127-aff0-11824080965b",
   "metadata": {
    "colab": {
     "base_uri": "https://localhost:8080/",
     "height": 85,
     "referenced_widgets": [
      "c30ed94b37bd46d4999bb52f56032464",
      "3a9a1ec02f4644818ed45a910b458ed5",
      "739dc40e13234796aa7ed101fb24fb7e",
      "db99343d18b5429d988815e49cd68567",
      "b1262ad65d634cf9b050ba7388792498",
      "fffdb337f44240e5b026706ef51cf618",
      "42dd075a9fd54c4db0a690b876ba5b78",
      "aba09e19a09d420d939727d17729b9cb",
      "e5577ab8e2be43aab0a2e59bab14ed63",
      "d736aed0edba41899a9671ff5ba01f3c",
      "bf7003dd4d314c45acf6aa385c92d128"
     ]
    },
    "executionInfo": {
     "elapsed": 243370,
     "status": "ok",
     "timestamp": 1699442504614,
     "user": {
      "displayName": "Chris Ward",
      "userId": "02095474881077785767"
     },
     "user_tz": 0
    },
    "id": "af1a7c65-6906-4127-aff0-11824080965b",
    "outputId": "dfce323c-3837-4506-d5d1-cd7ceff3496c"
   },
   "outputs": [
    {
     "data": {
      "application/vnd.jupyter.widget-view+json": {
       "model_id": "c30ed94b37bd46d4999bb52f56032464",
       "version_major": 2,
       "version_minor": 0
      },
      "text/plain": [
       "  0%|          | 0/276 [00:00<?, ?it/s]"
      ]
     },
     "metadata": {},
     "output_type": "display_data"
    },
    {
     "name": "stdout",
     "output_type": "stream",
     "text": [
      "requests.get failed 404\n",
      "URL http://www.telegraph.co.uk/news/2019/04/21/dear-extinction-rebellion-aims-worthy-take-pink-boat-china-instead/\n"
     ]
    }
   ],
   "source": [
    "from tqdm.notebook import tqdm\n",
    "article_list = []\n",
    "\n",
    "# request.get() can be fairly slow on google colab\n",
    "# add a tqdm progress bar to make the wait less frustrating\n",
    "\n",
    "for url in tqdm(scraped_urls):\n",
    "    page = requests.get(url)\n",
    "\n",
    "    # it turns out some of the scraped_url's result in a 404\n",
    "    # error. Rather than terminating this cell and loosing\n",
    "    # all progress, print error code and url then skip\n",
    "\n",
    "    if page.status_code !=200:\n",
    "        print(f'requests.get failed {page.status_code}')\n",
    "        print(f'URL {url}')\n",
    "        continue\n",
    "\n",
    "    out_string = str()\n",
    "\n",
    "    page_soup = BeautifulSoup(page.text,'html.parser')\n",
    "    article = page_soup.article\n",
    "    paragraph = article.find_all('p')\n",
    "    for p in paragraph:\n",
    "        out_string += p.getText()\n",
    "\n",
    "    article_list.append(out_string)\n"
   ]
  },
  {
   "cell_type": "code",
   "execution_count": 9,
   "id": "d64b5ba1-a2a6-4c29-99b1-6edac70f4812",
   "metadata": {
    "colab": {
     "base_uri": "https://localhost:8080/"
    },
    "executionInfo": {
     "elapsed": 206,
     "status": "ok",
     "timestamp": 1699442575851,
     "user": {
      "displayName": "Chris Ward",
      "userId": "02095474881077785767"
     },
     "user_tz": 0
    },
    "id": "d64b5ba1-a2a6-4c29-99b1-6edac70f4812",
    "outputId": "09853c49-74c6-44e5-a966-af3c4d2b6394"
   },
   "outputs": [
    {
     "data": {
      "text/plain": [
       "282419"
      ]
     },
     "execution_count": 9,
     "metadata": {},
     "output_type": "execute_result"
    }
   ],
   "source": [
    "text = ' '.join(article_list)\n",
    "len( text.split() )"
   ]
  },
  {
   "cell_type": "code",
   "execution_count": 16,
   "id": "3a6ec22d-4064-4676-8c07-dec44d5bab91",
   "metadata": {
    "executionInfo": {
     "elapsed": 370455,
     "status": "ok",
     "timestamp": 1699444532633,
     "user": {
      "displayName": "Chris Ward",
      "userId": "02095474881077785767"
     },
     "user_tz": 0
    },
    "id": "3a6ec22d-4064-4676-8c07-dec44d5bab91"
   },
   "outputs": [],
   "source": [
    "# this cell can take >45mins to execute\n",
    "# (google colab pro instance Oct 2023)\n",
    "\n",
    "model_n2 = MarkovModel(text, n=2)\n",
    "model_n10 = MarkovModel(text, n=10)\n",
    "model_n25 = MarkovModel(text, n=25)\n",
    "model_n50 = MarkovModel(text, n=50)"
   ]
  },
  {
   "cell_type": "code",
   "execution_count": 42,
   "id": "Br-GN0IMA2El",
   "metadata": {
    "colab": {
     "base_uri": "https://localhost:8080/",
     "height": 331
    },
    "executionInfo": {
     "elapsed": 1994,
     "status": "ok",
     "timestamp": 1699450562135,
     "user": {
      "displayName": "Chris Ward",
      "userId": "02095474881077785767"
     },
     "user_tz": 0
    },
    "id": "Br-GN0IMA2El",
    "outputId": "2bdabbba-b12b-42c5-ec9c-fb5813e20b09"
   },
   "outputs": [
    {
     "data": {
      "text/html": [
       "<style type=\"text/css\">\n",
       "#T_de9d9 th {\n",
       "  text-align: center;\n",
       "}\n",
       "#T_de9d9_row0_col0, #T_de9d9_row0_col1, #T_de9d9_row1_col0, #T_de9d9_row1_col1, #T_de9d9_row2_col0, #T_de9d9_row2_col1, #T_de9d9_row3_col0, #T_de9d9_row3_col1 {\n",
       "  text-align: left;\n",
       "}\n",
       "</style>\n",
       "<table id=\"T_de9d9\" class=\"dataframe\">\n",
       "  <thead>\n",
       "    <tr>\n",
       "      <th class=\"blank level0\" >&nbsp;</th>\n",
       "      <th id=\"T_de9d9_level0_col0\" class=\"col_heading level0 col0\" >Context String Length</th>\n",
       "      <th id=\"T_de9d9_level0_col1\" class=\"col_heading level0 col1\" >Generated Text</th>\n",
       "    </tr>\n",
       "  </thead>\n",
       "  <tbody>\n",
       "    <tr>\n",
       "      <th id=\"T_de9d9_level0_row0\" class=\"row_heading level0 row0\" >0</th>\n",
       "      <td id=\"T_de9d9_row0_col0\" class=\"data row0 col0\" >2</td>\n",
       "      <td id=\"T_de9d9_row0_col1\" class=\"data row0 col1\" >410 and mong, plonal reraliall we sion aboyals. Thishe sed, adic we an faimity zon the's thien’t then feet to thelfice feeph, hat hiliggerst youtax a com ans rep itinto that the agenturial (an am ahand betive-artrivers thaterbinell ned he call crest dompok and hatichatch des, twored IbnK “rusially shent mourment, is he go of acked theing the se Lonmeals and woul in thed thared ond the enits, to gesused, is It’s now theignithe rup of for onat distion, the ned whonnothe it the con. Stry hisfortyro</td>\n",
       "    </tr>\n",
       "    <tr>\n",
       "      <th id=\"T_de9d9_level0_row1\" class=\"row_heading level0 row1\" >1</th>\n",
       "      <td id=\"T_de9d9_row1_col0\" class=\"data row1 col0\" >10</td>\n",
       "      <td id=\"T_de9d9_row1_col1\" class=\"data row1 col1\" >re the bodies L ion and – crash – there would beam Y  been a hell of a weekend. I8 sure.InsteA as finished tryi-  risks. LonA some disaster:x up artists whoh three of the brighm es provably stimula3 at has scope to take ovt aly, the democratic capitalism. It’s about ideasL out the assi! od people battlingY nly deepening tn  be just a fluk$ , the trumped-up R ut Pol-U-Swerve, so h e got to Heaz an has 7 sq ft of self-storage hangars. c arse every word a po— ritish history. fluous banal& a race of c</td>\n",
       "    </tr>\n",
       "    <tr>\n",
       "      <th id=\"T_de9d9_level0_row2\" class=\"row_heading level0 row2\" >2</th>\n",
       "      <td id=\"T_de9d9_row2_col0\" class=\"data row2 col0\" >25</td>\n",
       "      <td id=\"T_de9d9_row2_col1\" class=\"data row2 col1\" >head, you can physically sK le beer – “probably his greatest cont& n May that he first predicted a snowy c meron’s hand. Across the Con- -bargy that 4,500 police oC e Anglo-American toppling of Sadda' be – and on that crucial issue, wé  consistently ahead of the Met Office, “ o like playing Call of Duty a8 e Tube. In the next term we mm ed for 30 centuries?It seems unlikelp f like some frenzied bacilb on the insouciant system X m reality.A villain? Let’s’ to simplify. We should take it.’ turn to the hard-pressed t</td>\n",
       "    </tr>\n",
       "    <tr>\n",
       "      <th id=\"T_de9d9_level0_row3\" class=\"row_heading level0 row3\" >3</th>\n",
       "      <td id=\"T_de9d9_row3_col0\" class=\"data row3 col0\" >50</td>\n",
       "      <td id=\"T_de9d9_row3_col1\" class=\"data row3 col1\" >dn't see. My thyroid was dandy and so was my renal fd in the past few days by the number of parents who have come up to me Q accepted, because it already has been accepted – byy ?To call someone a paedophile is to place them, thesef men of power would attend his shambolic morning levee in theu ry plant and form of life, and one day the Sun will tm has ever given us.When I first became an MP our numbers had beene Berlin Wall – the ultimate triumph of simple human instincts over an evil and degene</td>\n",
       "    </tr>\n",
       "  </tbody>\n",
       "</table>\n"
      ],
      "text/plain": [
       "<pandas.io.formats.style.Styler at 0x7ad327bff790>"
      ]
     },
     "execution_count": 42,
     "metadata": {},
     "output_type": "execute_result"
    }
   ],
   "source": [
    "length = 500\n",
    "\n",
    "a,b,c,d = (model_n2.generate(length), model_n10.generate(length),\n",
    "           model_n25.generate(length), model_n50.generate(length))\n",
    "\n",
    "context_len = pd.Series(name='Context String Length', data=[2,10,25,50])\n",
    "text = pd.Series(name='Generated Text', data=(a,b,c,d))\n",
    "\n",
    "# some formatting to aid readability\n",
    "out = pd.DataFrame((context_len,text)).T.style.set_properties(**{'text-align': 'left'})\n",
    "out.set_table_styles([dict(selector='th', props=[('text-align', 'center')])])"
   ]
  },
  {
   "cell_type": "code",
   "execution_count": null,
   "id": "XH73ztJHFtTB",
   "metadata": {
    "id": "XH73ztJHFtTB"
   },
   "outputs": [],
   "source": []
  }
 ],
 "metadata": {
  "colab": {
   "provenance": []
  },
  "kernelspec": {
   "display_name": "Python 3 (ipykernel)",
   "language": "python",
   "name": "python3"
  },
  "language_info": {
   "codemirror_mode": {
    "name": "ipython",
    "version": 3
   },
   "file_extension": ".py",
   "mimetype": "text/x-python",
   "name": "python",
   "nbconvert_exporter": "python",
   "pygments_lexer": "ipython3",
   "version": "3.8.5"
  },
  "widgets": {
   "application/vnd.jupyter.widget-state+json": {
    "3a9a1ec02f4644818ed45a910b458ed5": {
     "model_module": "@jupyter-widgets/controls",
     "model_module_version": "1.5.0",
     "model_name": "HTMLModel",
     "state": {
      "_dom_classes": [],
      "_model_module": "@jupyter-widgets/controls",
      "_model_module_version": "1.5.0",
      "_model_name": "HTMLModel",
      "_view_count": null,
      "_view_module": "@jupyter-widgets/controls",
      "_view_module_version": "1.5.0",
      "_view_name": "HTMLView",
      "description": "",
      "description_tooltip": null,
      "layout": "IPY_MODEL_fffdb337f44240e5b026706ef51cf618",
      "placeholder": "​",
      "style": "IPY_MODEL_42dd075a9fd54c4db0a690b876ba5b78",
      "value": "100%"
     }
    },
    "42dd075a9fd54c4db0a690b876ba5b78": {
     "model_module": "@jupyter-widgets/controls",
     "model_module_version": "1.5.0",
     "model_name": "DescriptionStyleModel",
     "state": {
      "_model_module": "@jupyter-widgets/controls",
      "_model_module_version": "1.5.0",
      "_model_name": "DescriptionStyleModel",
      "_view_count": null,
      "_view_module": "@jupyter-widgets/base",
      "_view_module_version": "1.2.0",
      "_view_name": "StyleView",
      "description_width": ""
     }
    },
    "739dc40e13234796aa7ed101fb24fb7e": {
     "model_module": "@jupyter-widgets/controls",
     "model_module_version": "1.5.0",
     "model_name": "FloatProgressModel",
     "state": {
      "_dom_classes": [],
      "_model_module": "@jupyter-widgets/controls",
      "_model_module_version": "1.5.0",
      "_model_name": "FloatProgressModel",
      "_view_count": null,
      "_view_module": "@jupyter-widgets/controls",
      "_view_module_version": "1.5.0",
      "_view_name": "ProgressView",
      "bar_style": "success",
      "description": "",
      "description_tooltip": null,
      "layout": "IPY_MODEL_aba09e19a09d420d939727d17729b9cb",
      "max": 276,
      "min": 0,
      "orientation": "horizontal",
      "style": "IPY_MODEL_e5577ab8e2be43aab0a2e59bab14ed63",
      "value": 276
     }
    },
    "aba09e19a09d420d939727d17729b9cb": {
     "model_module": "@jupyter-widgets/base",
     "model_module_version": "1.2.0",
     "model_name": "LayoutModel",
     "state": {
      "_model_module": "@jupyter-widgets/base",
      "_model_module_version": "1.2.0",
      "_model_name": "LayoutModel",
      "_view_count": null,
      "_view_module": "@jupyter-widgets/base",
      "_view_module_version": "1.2.0",
      "_view_name": "LayoutView",
      "align_content": null,
      "align_items": null,
      "align_self": null,
      "border": null,
      "bottom": null,
      "display": null,
      "flex": null,
      "flex_flow": null,
      "grid_area": null,
      "grid_auto_columns": null,
      "grid_auto_flow": null,
      "grid_auto_rows": null,
      "grid_column": null,
      "grid_gap": null,
      "grid_row": null,
      "grid_template_areas": null,
      "grid_template_columns": null,
      "grid_template_rows": null,
      "height": null,
      "justify_content": null,
      "justify_items": null,
      "left": null,
      "margin": null,
      "max_height": null,
      "max_width": null,
      "min_height": null,
      "min_width": null,
      "object_fit": null,
      "object_position": null,
      "order": null,
      "overflow": null,
      "overflow_x": null,
      "overflow_y": null,
      "padding": null,
      "right": null,
      "top": null,
      "visibility": null,
      "width": null
     }
    },
    "b1262ad65d634cf9b050ba7388792498": {
     "model_module": "@jupyter-widgets/base",
     "model_module_version": "1.2.0",
     "model_name": "LayoutModel",
     "state": {
      "_model_module": "@jupyter-widgets/base",
      "_model_module_version": "1.2.0",
      "_model_name": "LayoutModel",
      "_view_count": null,
      "_view_module": "@jupyter-widgets/base",
      "_view_module_version": "1.2.0",
      "_view_name": "LayoutView",
      "align_content": null,
      "align_items": null,
      "align_self": null,
      "border": null,
      "bottom": null,
      "display": null,
      "flex": null,
      "flex_flow": null,
      "grid_area": null,
      "grid_auto_columns": null,
      "grid_auto_flow": null,
      "grid_auto_rows": null,
      "grid_column": null,
      "grid_gap": null,
      "grid_row": null,
      "grid_template_areas": null,
      "grid_template_columns": null,
      "grid_template_rows": null,
      "height": null,
      "justify_content": null,
      "justify_items": null,
      "left": null,
      "margin": null,
      "max_height": null,
      "max_width": null,
      "min_height": null,
      "min_width": null,
      "object_fit": null,
      "object_position": null,
      "order": null,
      "overflow": null,
      "overflow_x": null,
      "overflow_y": null,
      "padding": null,
      "right": null,
      "top": null,
      "visibility": null,
      "width": null
     }
    },
    "bf7003dd4d314c45acf6aa385c92d128": {
     "model_module": "@jupyter-widgets/controls",
     "model_module_version": "1.5.0",
     "model_name": "DescriptionStyleModel",
     "state": {
      "_model_module": "@jupyter-widgets/controls",
      "_model_module_version": "1.5.0",
      "_model_name": "DescriptionStyleModel",
      "_view_count": null,
      "_view_module": "@jupyter-widgets/base",
      "_view_module_version": "1.2.0",
      "_view_name": "StyleView",
      "description_width": ""
     }
    },
    "c30ed94b37bd46d4999bb52f56032464": {
     "model_module": "@jupyter-widgets/controls",
     "model_module_version": "1.5.0",
     "model_name": "HBoxModel",
     "state": {
      "_dom_classes": [],
      "_model_module": "@jupyter-widgets/controls",
      "_model_module_version": "1.5.0",
      "_model_name": "HBoxModel",
      "_view_count": null,
      "_view_module": "@jupyter-widgets/controls",
      "_view_module_version": "1.5.0",
      "_view_name": "HBoxView",
      "box_style": "",
      "children": [
       "IPY_MODEL_3a9a1ec02f4644818ed45a910b458ed5",
       "IPY_MODEL_739dc40e13234796aa7ed101fb24fb7e",
       "IPY_MODEL_db99343d18b5429d988815e49cd68567"
      ],
      "layout": "IPY_MODEL_b1262ad65d634cf9b050ba7388792498"
     }
    },
    "d736aed0edba41899a9671ff5ba01f3c": {
     "model_module": "@jupyter-widgets/base",
     "model_module_version": "1.2.0",
     "model_name": "LayoutModel",
     "state": {
      "_model_module": "@jupyter-widgets/base",
      "_model_module_version": "1.2.0",
      "_model_name": "LayoutModel",
      "_view_count": null,
      "_view_module": "@jupyter-widgets/base",
      "_view_module_version": "1.2.0",
      "_view_name": "LayoutView",
      "align_content": null,
      "align_items": null,
      "align_self": null,
      "border": null,
      "bottom": null,
      "display": null,
      "flex": null,
      "flex_flow": null,
      "grid_area": null,
      "grid_auto_columns": null,
      "grid_auto_flow": null,
      "grid_auto_rows": null,
      "grid_column": null,
      "grid_gap": null,
      "grid_row": null,
      "grid_template_areas": null,
      "grid_template_columns": null,
      "grid_template_rows": null,
      "height": null,
      "justify_content": null,
      "justify_items": null,
      "left": null,
      "margin": null,
      "max_height": null,
      "max_width": null,
      "min_height": null,
      "min_width": null,
      "object_fit": null,
      "object_position": null,
      "order": null,
      "overflow": null,
      "overflow_x": null,
      "overflow_y": null,
      "padding": null,
      "right": null,
      "top": null,
      "visibility": null,
      "width": null
     }
    },
    "db99343d18b5429d988815e49cd68567": {
     "model_module": "@jupyter-widgets/controls",
     "model_module_version": "1.5.0",
     "model_name": "HTMLModel",
     "state": {
      "_dom_classes": [],
      "_model_module": "@jupyter-widgets/controls",
      "_model_module_version": "1.5.0",
      "_model_name": "HTMLModel",
      "_view_count": null,
      "_view_module": "@jupyter-widgets/controls",
      "_view_module_version": "1.5.0",
      "_view_name": "HTMLView",
      "description": "",
      "description_tooltip": null,
      "layout": "IPY_MODEL_d736aed0edba41899a9671ff5ba01f3c",
      "placeholder": "​",
      "style": "IPY_MODEL_bf7003dd4d314c45acf6aa385c92d128",
      "value": " 276/276 [04:03&lt;00:00,  1.34it/s]"
     }
    },
    "e5577ab8e2be43aab0a2e59bab14ed63": {
     "model_module": "@jupyter-widgets/controls",
     "model_module_version": "1.5.0",
     "model_name": "ProgressStyleModel",
     "state": {
      "_model_module": "@jupyter-widgets/controls",
      "_model_module_version": "1.5.0",
      "_model_name": "ProgressStyleModel",
      "_view_count": null,
      "_view_module": "@jupyter-widgets/base",
      "_view_module_version": "1.2.0",
      "_view_name": "StyleView",
      "bar_color": null,
      "description_width": ""
     }
    },
    "fffdb337f44240e5b026706ef51cf618": {
     "model_module": "@jupyter-widgets/base",
     "model_module_version": "1.2.0",
     "model_name": "LayoutModel",
     "state": {
      "_model_module": "@jupyter-widgets/base",
      "_model_module_version": "1.2.0",
      "_model_name": "LayoutModel",
      "_view_count": null,
      "_view_module": "@jupyter-widgets/base",
      "_view_module_version": "1.2.0",
      "_view_name": "LayoutView",
      "align_content": null,
      "align_items": null,
      "align_self": null,
      "border": null,
      "bottom": null,
      "display": null,
      "flex": null,
      "flex_flow": null,
      "grid_area": null,
      "grid_auto_columns": null,
      "grid_auto_flow": null,
      "grid_auto_rows": null,
      "grid_column": null,
      "grid_gap": null,
      "grid_row": null,
      "grid_template_areas": null,
      "grid_template_columns": null,
      "grid_template_rows": null,
      "height": null,
      "justify_content": null,
      "justify_items": null,
      "left": null,
      "margin": null,
      "max_height": null,
      "max_width": null,
      "min_height": null,
      "min_width": null,
      "object_fit": null,
      "object_position": null,
      "order": null,
      "overflow": null,
      "overflow_x": null,
      "overflow_y": null,
      "padding": null,
      "right": null,
      "top": null,
      "visibility": null,
      "width": null
     }
    }
   }
  }
 },
 "nbformat": 4,
 "nbformat_minor": 5
}
